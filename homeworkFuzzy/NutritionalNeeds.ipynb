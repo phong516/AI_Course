{
  "nbformat": 4,
  "nbformat_minor": 0,
  "metadata": {
    "colab": {
      "provenance": [],
      "authorship_tag": "ABX9TyPUxVWsSjUrpLdJwSEJpmvn",
      "include_colab_link": true
    },
    "kernelspec": {
      "name": "python3",
      "display_name": "Python 3"
    },
    "language_info": {
      "name": "python"
    }
  },
  "cells": [
    {
      "cell_type": "markdown",
      "metadata": {
        "id": "view-in-github",
        "colab_type": "text"
      },
      "source": [
        "<a href=\"https://colab.research.google.com/github/phong516/AI_Course/blob/main/homeworkFuzzy/NutritionalNeeds.ipynb\" target=\"_parent\"><img src=\"https://colab.research.google.com/assets/colab-badge.svg\" alt=\"Open In Colab\"/></a>"
      ]
    },
    {
      "cell_type": "code",
      "execution_count": 9,
      "metadata": {
        "colab": {
          "base_uri": "https://localhost:8080/"
        },
        "id": "rvvsQeD_yVFi",
        "outputId": "6b1e788b-71fa-44f0-a33e-a8743b68fefb"
      },
      "outputs": [
        {
          "output_type": "stream",
          "name": "stdout",
          "text": [
            "Looking in indexes: https://pypi.org/simple, https://us-python.pkg.dev/colab-wheels/public/simple/\n",
            "Requirement already satisfied: scikit-fuzzy in /usr/local/lib/python3.8/dist-packages (0.4.2)\n",
            "Requirement already satisfied: networkx>=1.9.0 in /usr/local/lib/python3.8/dist-packages (from scikit-fuzzy) (3.0)\n",
            "Requirement already satisfied: scipy>=0.9.0 in /usr/local/lib/python3.8/dist-packages (from scikit-fuzzy) (1.10.1)\n",
            "Requirement already satisfied: numpy>=1.6.0 in /usr/local/lib/python3.8/dist-packages (from scikit-fuzzy) (1.22.4)\n"
          ]
        }
      ],
      "source": [
        "pip install scikit-fuzzy"
      ]
    },
    {
      "cell_type": "code",
      "source": [
        "import numpy as np\n",
        "import skfuzzy as fuzz\n",
        "from skfuzzy import control as ctrl\n",
        "\n",
        "activity = ctrl.Antecedent(np.arange(0,11,1), 'activity')\n",
        "activity['very light'] \t= fuzz.trimf(activity.universe, [0, 0, 2.5])\n",
        "activity['light']\t\t= fuzz.trimf(activity.universe, [0, 2.5, 5])\n",
        "activity['moderate']\t= fuzz.trimf(activity.universe, [2.5, 5, 7.5])\n",
        "activity['heavy']\t\t= fuzz.trimf(activity.universe, [5, 10, 10])\n",
        "\n",
        "bmi = ctrl.Antecedent(np.arange(10,36,1), 'bmi')\n",
        "bmi['skinny']\t\t= fuzz.trimf(bmi.universe, [10, 10, 17])\n",
        "bmi['thin']\t        = fuzz.trimf(bmi.universe, [16, 17.75, 18.5])\n",
        "bmi['normal']\t\t= fuzz.trimf(bmi.universe, [17.5, 21.75, 25])\n",
        "bmi['overweight']\t= fuzz.trimf(bmi.universe, [24, 26, 27])\n",
        "bmi['obesity']\t\t= fuzz.trimf(bmi.universe, [26, 35, 35])\n",
        "\n",
        "age = ctrl.Antecedent(np.arange(13, 81, 1), 'age')\n",
        "age['young'] = fuzz.trapmf(age.universe, [13, 13, 25, 30])\n",
        "age['middle'] = fuzz.trimf(age.universe, [25, 50, 65])\n",
        "age['old'] = fuzz.trapmf(age.universe, [50, 65, 80, 80])\n",
        "\n",
        "gender = ctrl.Antecedent(np.arange(0, 2, 1), 'gender')\n",
        "gender['female'] = fuzz.trimf(gender.universe, [0, 0, 1])\n",
        "gender['male'] = fuzz.trimf(gender.universe, [0, 1, 1])\n",
        "\n",
        "calorie = ctrl.Consequent(np.arange(1200,3501,1), 'calorie')\n",
        "calorie['very low'] = fuzz.trapmf(calorie.universe, [1200, 1200, 1400, 1500])\n",
        "calorie['low'] = fuzz.trimf(calorie.universe, [1400, 1700, 2000])\n",
        "calorie['medium'] = fuzz.trimf(calorie.universe, [1800, 2300, 2800])\n",
        "calorie['high'] = fuzz.trimf(calorie.universe, [2400, 3000, 3500])\n",
        "calorie['very high'] = fuzz.trapmf(calorie.universe, [3000, 3300, 3500, 3500])\n",
        "\n",
        "\"\"\"activity.view()\n",
        "gender.view()\n",
        "age.view()\n",
        "bmi.view()\n",
        "calorie.view()\"\"\"\n",
        "\n",
        "rule1 = ctrl.Rule(bmi['skinny'] & (activity['very light'] | activity['light']) & (gender['male']) & (age['young']), calorie['low'])\n",
        "\n",
        "rule2 = ctrl.Rule(bmi['thin'] & (activity['very light'] | activity['light']) & (gender['male']) & (age['middle']), calorie['low'])\n",
        "\n",
        "rule3 = ctrl.Rule(bmi['normal'] & (activity['light'] | activity['moderate']) & (gender['male']) & (age['young'] | age['middle']), calorie['medium'])\n",
        "\n",
        "rule4 = ctrl.Rule(bmi['overweight'] & (activity['moderate'] | activity['heavy']) & (gender['male']) & (age['middle'] | age['old']), calorie['medium'])\n",
        "\n",
        "rule5 = ctrl.Rule(bmi['obesity'] & (activity['moderate'] | activity['heavy']) & (gender['male']) & (age['young'] | age['middle'] | age['old']), calorie['high'])\n",
        "\n",
        "rule6 = ctrl.Rule(bmi['skinny'] & (activity['moderate'] | activity['heavy']) & (gender['female']) & (age['young']), calorie['low'])\n",
        "\n",
        "rule7 = ctrl.Rule(bmi['thin'] & (activity['moderate'] | activity['heavy']) & (gender['female']) & (age['middle'] | age['old']), calorie['low'])\n",
        "\n",
        "rule8 = ctrl.Rule(bmi['normal'] & (activity['light'] | activity['moderate']) & (gender['female']) & (age['young'] | age['middle']), calorie['medium'])\n",
        "\n",
        "rule9 = ctrl.Rule(bmi['overweight'] & (activity['moderate'] | activity['heavy']) & (gender['female']) & (age['middle'] | age['old']), calorie['medium'])\n",
        "\n",
        "rule10 = ctrl.Rule(bmi['normal'] & age['middle'] & activity['heavy'], calorie['high'])\n",
        "\n",
        "rule11 = ctrl.Rule(bmi['overweight'] & age['young'] & activity['very light'], calorie['low'])\n",
        "\n",
        "rule12 = ctrl.Rule(bmi['overweight'] & age['young'] & activity['light'], calorie['medium'])\n",
        "\n",
        "rule13 = ctrl.Rule(bmi['overweight'] & age['young'] & activity['moderate'], calorie['medium'])\n",
        "\n",
        "rule14 = ctrl.Rule(bmi['overweight'] & age['young'] & activity['heavy'], calorie['high'])\n",
        "\n",
        "rule15 = ctrl.Rule(bmi['overweight'] & age['middle'] & activity['very light'], calorie['low'])\n",
        "\n",
        "rule16 = ctrl.Rule(bmi['overweight'] & age['middle'] & activity['light'], calorie['medium'])\n",
        "\n",
        "rule17 = ctrl.Rule(bmi['overweight'] & age['middle'] & activity['moderate'], calorie['high'])\n",
        "\n",
        "rule18 = ctrl.Rule(bmi['overweight'] & age['middle'] & activity['heavy'], calorie['high'])\n",
        "\n",
        "rule19 = ctrl.Rule(bmi['overweight'] & age['old'] & activity['very light'], calorie['low'])\n",
        "\n",
        "rule20 = ctrl.Rule(bmi['overweight'] & age['old'] & activity['light'], calorie['medium'])\n",
        "\n",
        "rule21 = ctrl.Rule(bmi['overweight'] & age['old'] & activity['moderate'], calorie['medium'])\n",
        "\n",
        "rule22 = ctrl.Rule(bmi['overweight'] & age['old'] & activity['heavy'], calorie['high'])\n",
        "\n",
        "rule = []\n",
        "for i in range(1, 23):\n",
        "    rule.append(locals()[\"rule\" + str(i)])\n",
        "\n",
        "calorie_ctrl = ctrl.ControlSystem(rule)\n",
        "\n",
        "dailyCalorie = ctrl.ControlSystemSimulation(calorie_ctrl)\n",
        "\n",
        "Height = 170\t\t#in cm\n",
        "Weight = 70\t\t\t#in kg\n",
        "\n",
        "Gender = 1\t\t\t#female = 0, male = 1\n",
        "Age = 25\t\t\t#from 13 to 80\n",
        "activity = 1\t\t#from 0 to 10\n",
        "\n",
        "BMI = Weight/((Height/100)**2)\n",
        "\n",
        "dailyCalorie.input['bmi'] = BMI\n",
        "\n",
        "dailyCalorie.input['activity'] = activity\n",
        "\n",
        "dailyCalorie.input['gender'] = Gender\n",
        "\n",
        "dailyCalorie.input['age'] = Age\n",
        "\n",
        "dailyCalorie.compute()\n",
        "\n",
        "print (dailyCalorie.output['calorie'])\n",
        "\n",
        "\n",
        "\n",
        "calorie.view(sim=dailyCalorie)\n"
      ],
      "metadata": {
        "colab": {
          "base_uri": "https://localhost:8080/",
          "height": 299
        },
        "id": "T_kM8ZY5yfxG",
        "outputId": "742db146-496f-4201-b0af-6d72255cc2b5"
      },
      "execution_count": 16,
      "outputs": [
        {
          "output_type": "stream",
          "name": "stdout",
          "text": [
            "2179.689832107888\n"
          ]
        },
        {
          "output_type": "display_data",
          "data": {
            "text/plain": [
              "<Figure size 432x288 with 1 Axes>"
            ],
            "image/png": "[encoded data removed]"
          },
          "metadata": {
            "needs_background": "light"
          }
        }
      ]
    }
  ]
}
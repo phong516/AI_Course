{
  "nbformat": 4,
  "nbformat_minor": 0,
  "metadata": {
    "colab": {
      "provenance": [],
      "authorship_tag": "ABX9TyMgDFTJr9d1Mj+JfquGKCec",
      "include_colab_link": true
    },
    "kernelspec": {
      "name": "python3",
      "display_name": "Python 3"
    },
    "language_info": {
      "name": "python"
    }
  },
  "cells": [
    {
      "cell_type": "markdown",
      "metadata": {
        "id": "view-in-github",
        "colab_type": "text"
      },
      "source": [
        "<a href=\"https://colab.research.google.com/github/phong516/AI_Course/blob/main/homeworkFuzzy/medicalDiagnosis.ipynb\" target=\"_parent\"><img src=\"https://colab.research.google.com/assets/colab-badge.svg\" alt=\"Open In Colab\"/></a>"
      ]
    },
    {
      "cell_type": "code",
      "execution_count": 1,
      "metadata": {
        "colab": {
          "base_uri": "https://localhost:8080/"
        },
        "id": "73GfAN-UKKhN",
        "outputId": "1bd3bf39-5fb9-45b6-9848-467b1ca39170"
      },
      "outputs": [
        {
          "output_type": "stream",
          "name": "stdout",
          "text": [
            "Looking in indexes: https://pypi.org/simple, https://us-python.pkg.dev/colab-wheels/public/simple/\n",
            "Collecting scikit-fuzzy\n",
            "  Downloading scikit-fuzzy-0.4.2.tar.gz (993 kB)\n",
            "\u001b[2K     \u001b[90m━━━━━━━━━━━━━━━━━━━━━━━━━━━━━━━━━━━━━━\u001b[0m \u001b[32m994.0/994.0 KB\u001b[0m \u001b[31m13.3 MB/s\u001b[0m eta \u001b[36m0:00:00\u001b[0m\n",
            "\u001b[?25h  Preparing metadata (setup.py) ... \u001b[?25l\u001b[?25hdone\n",
            "Requirement already satisfied: numpy>=1.6.0 in /usr/local/lib/python3.8/dist-packages (from scikit-fuzzy) (1.22.4)\n",
            "Requirement already satisfied: scipy>=0.9.0 in /usr/local/lib/python3.8/dist-packages (from scikit-fuzzy) (1.10.1)\n",
            "Requirement already satisfied: networkx>=1.9.0 in /usr/local/lib/python3.8/dist-packages (from scikit-fuzzy) (3.0)\n",
            "Building wheels for collected packages: scikit-fuzzy\n",
            "  Building wheel for scikit-fuzzy (setup.py) ... \u001b[?25l\u001b[?25hdone\n",
            "  Created wheel for scikit-fuzzy: filename=scikit_fuzzy-0.4.2-py3-none-any.whl size=894088 sha256=3235d6c1fd8824eea2fe280ec8da148fbf469f340e40fbd1f42e66f0199c7cd0\n",
            "  Stored in directory: /root/.cache/pip/wheels/2c/04/80/7eefb1a2de7d36aefd06432fab2a1486caf0a0596a7067391a\n",
            "Successfully built scikit-fuzzy\n",
            "Installing collected packages: scikit-fuzzy\n",
            "Successfully installed scikit-fuzzy-0.4.2\n"
          ]
        }
      ],
      "source": [
        "pip install scikit-fuzzy"
      ]
    },
    {
      "cell_type": "code",
      "source": [
        "import numpy as np\n",
        "import skfuzzy as fuzz\n",
        "from skfuzzy import control as ctrl \n",
        "import numpy as np\n",
        "\n",
        "\n",
        "##########################################################\n",
        "fever = ctrl.Antecedent(np.arange(0.1,1.1,0.1),'fever')\n",
        "fever.automf(4, names = ['mild', 'moderate', 'severe', 'very severe'] )\n",
        "\n",
        "##########################################################\n",
        "headache= ctrl.Antecedent(np.arange(0.1,1.1,0.1),'headache')\n",
        "headache.automf(4, names = ['mild', 'moderate', 'severe', 'very severe'] )\n",
        "\n",
        "##########################################################\n",
        "nausea = ctrl.Antecedent(np.arange(0.1,1.1,0.1),'nausea')\n",
        "nausea.automf(4, names = ['mild', 'moderate', 'severe', 'very severe'] )\n",
        "\n",
        "##########################################################\n",
        "\n",
        "vomiting= ctrl.Antecedent(np.arange(0.1,1.1,0.1),'vomiting')\n",
        "vomiting.automf(4, names = ['mild', 'moderate', 'severe', 'very severe'] )\n",
        "\n",
        "##########################################################\n",
        "jaundice = ctrl.Antecedent(np.arange(0.1,1.1,0.1),'jaundice')\n",
        "jaundice.automf(4, names = ['mild', 'moderate', 'severe', 'very severe'] )\n",
        "\n",
        "##########################################################\n",
        "enlargedLiver= ctrl.Antecedent(np.arange(0.1,1.1,0.1),'enlargedLiver')\n",
        "enlargedLiver.automf(4, names = ['mild', 'moderate', 'severe', 'very severe'] )\n",
        "\n",
        "##########################################################\n",
        "jointPain = ctrl.Antecedent(np.arange(0.1,1.1,0.1),'jointPain')\n",
        "jointPain.automf(4, names = ['mild', 'moderate', 'severe', 'very severe'] )\n",
        "\n",
        "##########################################################\n",
        "bodyWeakness= ctrl.Antecedent(np.arange(0.1,1.1,0.1),'bodyWeakness')\n",
        "bodyWeakness.automf(4, names = ['mild', 'moderate', 'severe', 'very severe'] )\n",
        "\n",
        "##########################################################\n",
        "dizziness = ctrl.Antecedent(np.arange(0.1,1.1,0.1),'dizziness')\n",
        "dizziness.automf(4, names = ['mild', 'moderate', 'severe', 'very severe'] )\n",
        "\n",
        "##########################################################\n",
        "lossOfAppetite= ctrl.Antecedent(np.arange(0.1,1.1,0.1),'lossOfAppetite')\n",
        "lossOfAppetite.automf(4, names = ['mild', 'moderate', 'severe', 'very severe'] )\n",
        "\n",
        "##########################################################\n",
        "MP= ctrl.Antecedent(np.arange(0.1,1.1,0.1),'MP')\n",
        "MP.automf(4, names = ['mild', 'moderate', 'severe', 'very severe'] )\n",
        "\n",
        "##########################################################\n",
        "conclusion= ctrl.Consequent(np.arange(0.1,1.1,0.1),'conclusion')\n",
        "conclusion.automf(4, names = ['mild', 'moderate', 'severe', 'very severe'] )\n"
      ],
      "metadata": {
        "id": "IYg8qtiOLwDo"
      },
      "execution_count": 29,
      "outputs": []
    },
    {
      "cell_type": "code",
      "source": [
        "rule1 = ctrl.Rule(fever['mild']&headache['mild']&nausea['mild']&vomiting['mild']&jaundice['mild']\n",
        "                  &enlargedLiver['mild']&jointPain['mild']&bodyWeakness['mild']&dizziness['severe']\n",
        "                  &lossOfAppetite['mild']&MP['mild'],conclusion['mild'])\n",
        "rule2 = ctrl.Rule(fever['moderate']&headache['mild']&nausea['mild']&vomiting['mild']&jaundice['mild']\n",
        "                  &enlargedLiver['mild']&jointPain['moderate']&bodyWeakness['moderate']&dizziness['severe']\n",
        "                  &lossOfAppetite['severe']&MP['moderate'],conclusion['moderate'])\n",
        "rule3 = ctrl.Rule(fever['severe']&headache['moderate']&nausea['mild']&vomiting['mild']&jaundice['mild']\n",
        "                  &enlargedLiver['mild']&jointPain['mild']&bodyWeakness['severe']&dizziness['severe']\n",
        "                  &lossOfAppetite['severe']&MP['moderate'],conclusion['severe'])\n",
        "rule4 = ctrl.Rule(fever['very severe']&headache['mild']&nausea['mild']&vomiting['mild']&jaundice['mild']\n",
        "                  &enlargedLiver['mild']&jointPain['severe']&bodyWeakness['severe']&dizziness['mild']\n",
        "                  &lossOfAppetite['mild']&MP['severe'],conclusion['very severe'])\n",
        "rule5 = ctrl.Rule(fever['moderate']&headache['mild']&nausea['mild']&vomiting['moderate']\n",
        "                  &jaundice['mild']&enlargedLiver['mild']&jointPain['moderate']&bodyWeakness['moderate']\n",
        "                  &dizziness['moderate']&lossOfAppetite['severe']&MP['moderate'],conclusion['moderate'])\n",
        "rule6 = ctrl.Rule(fever['mild']&headache['moderate']&nausea['moderate']&vomiting['mild']\n",
        "                  &jaundice['mild']&enlargedLiver['mild']&jointPain['mild']&bodyWeakness['mild']\n",
        "                  &dizziness['moderate']&lossOfAppetite['mild']&MP['mild'],conclusion['mild'])\n",
        "rule7 = ctrl.Rule(fever['mild']&headache['mild']&nausea['moderate']&vomiting['moderate']\n",
        "                  &jaundice['mild']&enlargedLiver['mild']&jointPain['severe']&bodyWeakness['severe']\n",
        "                  &dizziness['moderate']&lossOfAppetite['moderate']&MP['moderate'],conclusion['severe'])\n",
        "rule8 = ctrl.Rule(fever['moderate']&headache['moderate']&nausea['moderate']&vomiting['moderate']\n",
        "                  &jaundice['moderate']&enlargedLiver['moderate']&jointPain['moderate']&bodyWeakness['moderate']\n",
        "                  &dizziness['moderate']&lossOfAppetite['moderate']&MP['moderate'],conclusion['moderate'])\n",
        "rule9 = ctrl.Rule(fever['moderate']&headache['mild']&nausea['moderate']&vomiting['moderate']&jaundice['mild']\n",
        "                  &enlargedLiver['severe']&jointPain['moderate']&bodyWeakness['moderate']&dizziness['severe']\n",
        "                  &lossOfAppetite['moderate']&MP['moderate'],conclusion['moderate'])\n",
        "rule10 = ctrl.Rule(fever['mild']&headache['mild']&nausea['moderate']&vomiting['moderate']&jaundice['mild']\n",
        "                   &enlargedLiver['moderate']&jointPain['mild']&bodyWeakness['mild']&dizziness['mild']\n",
        "                   &lossOfAppetite['mild']&MP['mild'],conclusion['mild'])\n",
        "rule11 = ctrl.Rule(fever['severe']&headache['severe']&nausea['severe']&vomiting['severe']&jaundice['severe']\n",
        "                   &enlargedLiver['severe']&jointPain['severe']&bodyWeakness['very severe']\n",
        "                   &dizziness['severe']&lossOfAppetite['severe']&MP['moderate'],conclusion['very severe'])\n",
        "rule12 = ctrl.Rule(fever['moderate']&headache['severe']&nausea['moderate']&vomiting['severe']\n",
        "                   &jaundice['moderate']&enlargedLiver['severe']&jointPain['moderate']&bodyWeakness['severe']\n",
        "                   &dizziness['moderate']&lossOfAppetite['mild']&MP['moderate'],conclusion['severe'])\n",
        "rule13 = ctrl.Rule(fever['mild']&headache['moderate']&nausea['moderate']&vomiting['moderate']&jaundice['mild']\n",
        "                   &enlargedLiver['mild']&jointPain['mild']&bodyWeakness['moderate']&dizziness['mild']\n",
        "                   &lossOfAppetite['moderate']&MP['moderate'],conclusion['moderate'])\n",
        "rule14 = ctrl.Rule(fever['severe']&headache['severe']&nausea['moderate']&vomiting['severe']&jaundice['severe']\n",
        "                   &enlargedLiver['severe']&jointPain['severe']&bodyWeakness['severe']&dizziness['moderate']\n",
        "                   &lossOfAppetite['moderate']&MP['severe'],conclusion['severe'])\n",
        "rule15 = ctrl.Rule(fever['mild']&headache['mild']&nausea['mild']&vomiting['moderate']&jaundice['mild']\n",
        "                   &enlargedLiver['mild']&jointPain['mild']&bodyWeakness['severe']&dizziness['mild']\n",
        "                   &lossOfAppetite['severe']&MP['moderate'],conclusion['severe'])\n",
        "rule16 = ctrl.Rule(fever['very severe']&headache['moderate']&nausea['mild']&vomiting['moderate']\n",
        "                   &jaundice['severe']&enlargedLiver['moderate']&jointPain['mild']&bodyWeakness['very severe']\n",
        "                   &dizziness['severe']&lossOfAppetite['mild']&MP['moderate'],conclusion['very severe'])\n",
        "rule17 = ctrl.Rule(fever['mild']&headache['very severe']&nausea['moderate']&vomiting['moderate']\n",
        "                   &jaundice['mild']&enlargedLiver['moderate']&jointPain['mild']&bodyWeakness['moderate']\n",
        "                   &dizziness['very severe']&lossOfAppetite['mild']&MP['moderate'],conclusion['very severe'])\n",
        "rule18 = ctrl.Rule(fever['moderate']&headache['very severe']&nausea['very severe']&vomiting['mild']\n",
        "                   &jaundice['severe']&enlargedLiver['severe']&jointPain['moderate']&bodyWeakness['severe']\n",
        "                   &dizziness['very severe']&lossOfAppetite['very severe']&MP['severe'],conclusion['very severe'])\n",
        "rule19 = ctrl.Rule(fever['moderate']&headache['moderate']&nausea['moderate']&vomiting['moderate']&jaundice['mild']\n",
        "                   &enlargedLiver['mild']&jointPain['moderate']&bodyWeakness['moderate']&dizziness['moderate']\n",
        "                   &lossOfAppetite['moderate']&MP['moderate'],conclusion['moderate'])\n",
        "rule20 = ctrl.Rule(fever['very severe']&headache['severe']&nausea['severe']&vomiting['severe']\n",
        "                   &jaundice['severe']&enlargedLiver['severe']&jointPain['severe']&bodyWeakness['severe']\n",
        "                   &dizziness['severe']&lossOfAppetite['severe']&MP['moderate'],conclusion['very severe'])\n",
        "\n",
        "rule = []\n",
        "for i in range(1, 21):\n",
        "  rule.append(locals()[\"rule\" + str(i)])\n"
      ],
      "metadata": {
        "id": "cW27hX34UYoo"
      },
      "execution_count": 30,
      "outputs": []
    },
    {
      "cell_type": "code",
      "source": [
        "conclusion_ctrl=ctrl.ControlSystem(rule)\n",
        "conclusionSimu = ctrl.ControlSystemSimulation(conclusion_ctrl)\n",
        "\n",
        "conclusionSimu.input['fever']= 0.5\n",
        "conclusionSimu.input['headache']=0.5\n",
        "conclusionSimu.input['nausea']=0.2\n",
        "conclusionSimu.input['vomiting']=0.2\n",
        "conclusionSimu.input['jaundice']=0.2\n",
        "conclusionSimu.input['enlargedLiver']=0.2\n",
        "conclusionSimu.input['jointPain']=0.5\n",
        "conclusionSimu.input['bodyWeakness']=0.5\n",
        "conclusionSimu.input['dizziness']=0.7\n",
        "conclusionSimu.input['lossOfAppetite']=0.7\n",
        "conclusionSimu.input['MP']=0.5\n",
        "\n",
        "conclusionSimu.compute()\n",
        "print(conclusionSimu.output['conclusion'])\n",
        "conclusion.view(sim=conclusionSimu)"
      ],
      "metadata": {
        "colab": {
          "base_uri": "https://localhost:8080/",
          "height": 298
        },
        "id": "0oUuD5y2VK8n",
        "outputId": "305d5050-da6f-4b3b-c25b-9f78553ebd6d"
      },
      "execution_count": 32,
      "outputs": [
        {
          "output_type": "stream",
          "name": "stdout",
          "text": [
            "0.3597222222222223\n"
          ]
        },
        {
          "output_type": "display_data",
          "data": {
            "text/plain": [
              "<Figure size 432x288 with 1 Axes>"
            ],
            "image/png": "[encoded data removed]"
          },
          "metadata": {
            "needs_background": "light"
          }
        }
      ]
    }
  ]
}
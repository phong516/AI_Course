{
  "nbformat": 4,
  "nbformat_minor": 0,
  "metadata": {
    "colab": {
      "provenance": [],
      "authorship_tag": "ABX9TyM5DTo8gGQ3q07U7iuI2PQX",
      "include_colab_link": true
    },
    "kernelspec": {
      "name": "python3",
      "display_name": "Python 3"
    },
    "language_info": {
      "name": "python"
    }
  },
  "cells": [
    {
      "cell_type": "markdown",
      "metadata": {
        "id": "view-in-github",
        "colab_type": "text"
      },
      "source": [
        "<a href=\"https://colab.research.google.com/github/phong516/AI_Course/blob/main/homeworkFuzzy/rainfallPrediction.ipynb\" target=\"_parent\"><img src=\"https://colab.research.google.com/assets/colab-badge.svg\" alt=\"Open In Colab\"/></a>"
      ]
    },
    {
      "cell_type": "code",
      "execution_count": 1,
      "metadata": {
        "colab": {
          "base_uri": "https://localhost:8080/"
        },
        "id": "o9k2TG28Y-BI",
        "outputId": "5310321f-6007-4958-80f6-086bdfe5bb89"
      },
      "outputs": [
        {
          "output_type": "stream",
          "name": "stdout",
          "text": [
            "Looking in indexes: https://pypi.org/simple, https://us-python.pkg.dev/colab-wheels/public/simple/\n",
            "Collecting scikit-fuzzy\n",
            "  Downloading scikit-fuzzy-0.4.2.tar.gz (993 kB)\n",
            "\u001b[2K     \u001b[90m━━━━━━━━━━━━━━━━━━━━━━━━━━━━━━━━━━━━━━\u001b[0m \u001b[32m994.0/994.0 KB\u001b[0m \u001b[31m14.4 MB/s\u001b[0m eta \u001b[36m0:00:00\u001b[0m\n",
            "\u001b[?25h  Preparing metadata (setup.py) ... \u001b[?25l\u001b[?25hdone\n",
            "Requirement already satisfied: numpy>=1.6.0 in /usr/local/lib/python3.8/dist-packages (from scikit-fuzzy) (1.22.4)\n",
            "Requirement already satisfied: scipy>=0.9.0 in /usr/local/lib/python3.8/dist-packages (from scikit-fuzzy) (1.10.1)\n",
            "Requirement already satisfied: networkx>=1.9.0 in /usr/local/lib/python3.8/dist-packages (from scikit-fuzzy) (3.0)\n",
            "Building wheels for collected packages: scikit-fuzzy\n",
            "  Building wheel for scikit-fuzzy (setup.py) ... \u001b[?25l\u001b[?25hdone\n",
            "  Created wheel for scikit-fuzzy: filename=scikit_fuzzy-0.4.2-py3-none-any.whl size=894088 sha256=fd4f38e0b420520643e2fe1fe850c6b9950004e5213aa551d46d2dd1830e8154\n",
            "  Stored in directory: /root/.cache/pip/wheels/2c/04/80/7eefb1a2de7d36aefd06432fab2a1486caf0a0596a7067391a\n",
            "Successfully built scikit-fuzzy\n",
            "Installing collected packages: scikit-fuzzy\n",
            "Successfully installed scikit-fuzzy-0.4.2\n"
          ]
        }
      ],
      "source": [
        "pip install scikit-fuzzy"
      ]
    },
    {
      "cell_type": "code",
      "source": [
        "import numpy as np\n",
        "import skfuzzy as fuzz\n",
        "from skfuzzy import control as ctrl "
      ],
      "metadata": {
        "id": "73KRQaGdZl3n"
      },
      "execution_count": 3,
      "outputs": []
    },
    {
      "cell_type": "code",
      "source": [
        "taste = ctrl.Antecedent(np.arange(0,11,0.25),'taste')\n",
        "environment = ctrl.Antecedent(np.arange(0,11,0.25),'environment')\n",
        "budget = ctrl.Antecedent(np.arange(1,10,0.25),'budget')\n",
        "user_review = ctrl.Antecedent(np.arange(0,6,0.25),'user_review')\n",
        "location = ctrl.Antecedent(np.arange(0,4,0.1),'location')\n",
        "\n",
        "preference= ctrl.Consequent(np.arange(0,10,0.25),'preference')\n",
        "\n",
        "taste['less']=fuzz.gaussmf(taste.universe,0,2)\n",
        "taste['medium']=fuzz.gaussmf(taste.universe,5,2)\n",
        "taste['high']=fuzz.gaussmf(taste.universe,10,2)\n",
        "\n",
        "environment['less']=fuzz.gaussmf(environment.universe,0,1)\n",
        "environment['medium']=fuzz.gaussmf(environment.universe,5,0.25)\n",
        "environment['high']=fuzz.gaussmf(environment.universe,10,1)\n",
        "\n",
        "budget['less preferred']=fuzz.gaussmf(budget.universe,7.5,1)\n",
        "budget['preferred']=fuzz.gaussmf(budget.universe,4.5,1)\n",
        "budget['more preferred']=fuzz.gaussmf(budget.universe,1.5,1)\n",
        "\n",
        "user_review['more preferred']=fuzz.gaussmf(user_review.universe,4.5,1)\n",
        "user_review['preferred']=fuzz.gaussmf(user_review.universe,2.5,1)\n",
        "user_review['less preferred']=fuzz.gaussmf(user_review.universe,0.5,1)\n",
        "\n",
        "location['close']=fuzz.gaussmf(location.universe,0.5,0.5)\n",
        "location['near']=fuzz.gaussmf(location.universe,1.5,0.5)\n",
        "location['far']=fuzz.gaussmf(location.universe,2.5,0.5)\n",
        "\n",
        "preference['level1']=fuzz.trimf(preference.universe,[0,1.5,3])\n",
        "preference['level2']=fuzz.trimf(preference.universe,[1.5,3,4.5])\n",
        "preference['level3']=fuzz.trimf(preference.universe,[3,4.5,6])\n",
        "preference['level4']=fuzz.trimf(preference.universe,[4.5,6,7.5])\n",
        "preference['level5']=fuzz.trimf(preference.universe,[6,7.5,9])\n",
        "\n",
        "rule= []\n",
        "\n",
        "list_value_taste = [' ','less','medium','high']\n",
        "list_value_environment = [' ','less','medium','high']\n",
        "list_value_budget=[' ','less preferred','preferred','more preferred']\n",
        "list_value_user_review = [' ','less preferred','preferred','more preferred']\n",
        "list_value_location = [' ','far','near','close']\n",
        "\n",
        "list_value_preference=['level1','level2','level3','level4','level5']\n",
        "\n",
        "for index_taste in range(1,4):\n",
        "  for index_environment in range (1,4):\n",
        "    for index_budget in range(1,4):\n",
        "      for index_user_review in range (1,4):\n",
        "        for index_location in range (1,4):\n",
        "          i = index_budget + index_environment + index_location + index_taste + index_user_review\n",
        "          if(i <=3): k=0\n",
        "          if(3< i <=6): k=1\n",
        "          if(6< i <=9): k=2\n",
        "          if(9< i <=12):k=3\n",
        "          if(12< i <=15):k=4\n",
        "          #print(f\"rule = ctrl.Rule(taste[list_value_taste[{index_taste}]]&environment[list_value_environment[{index_environment}]] \\&budget[list_value_budget[{index_budget}]]&user_review[list_value_user_review[{index_user_review}]]&location[list_value_location[{index_location}]],preference[list_value_preference[{k}]])\\n\")\n",
        "          rule.append(ctrl.Rule(taste[list_value_taste[index_taste]]&environment[list_value_environment[index_environment]]\n",
        "                                &budget[list_value_budget[index_budget]]&user_review[list_value_user_review[index_user_review]]\n",
        "                                &location[list_value_location[index_location]],preference[list_value_preference[k]]))\n",
        "\n",
        "\n",
        "preferencing_ctrl = ctrl.ControlSystem(rule)\n",
        "preferencing=ctrl.ControlSystemSimulation(preferencing_ctrl)\n",
        "preferencing.input['taste']=9\n",
        "preferencing.input['environment']=8\n",
        "preferencing.input['budget']=7\n",
        "preferencing.input['user_review']=6\n",
        "preferencing.input['location']=5\n",
        "preferencing.compute()\n",
        "print(preferencing.output['preference'])\n",
        "preference.view(sim=preferencing)\n",
        "\n",
        "'''taste.view()\n",
        "environment.view()\n",
        "budget.view()\n",
        "user_review.view()\n",
        "location.view()\n",
        "preference.view()'''"
      ],
      "metadata": {
        "colab": {
          "base_uri": "https://localhost:8080/",
          "height": 317
        },
        "id": "TYd6fHIvZt_W",
        "outputId": "1c35ece9-ae4b-4c8a-d92c-0d1685c914be"
      },
      "execution_count": 8,
      "outputs": [
        {
          "output_type": "stream",
          "name": "stdout",
          "text": [
            "5.742074947876032\n"
          ]
        },
        {
          "output_type": "execute_result",
          "data": {
            "text/plain": [
              "'taste.view()\\nenvironment.view()\\nbudget.view()\\nuser_review.view()\\nlocation.view()\\npreference.view()'"
            ],
            "application/vnd.google.colaboratory.intrinsic+json": {
              "type": "string"
            }
          },
          "metadata": {},
          "execution_count": 8
        },
        {
          "output_type": "display_data",
          "data": {
            "text/plain": [
              "<Figure size 432x288 with 1 Axes>"
            ],
            "image/png": "[encoded data removed]"
          },
          "metadata": {
            "needs_background": "light"
          }
        }
      ]
    }
  ]
}
